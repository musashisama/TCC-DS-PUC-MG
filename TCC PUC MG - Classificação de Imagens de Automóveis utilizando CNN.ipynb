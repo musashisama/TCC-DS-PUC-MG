{
 "cells": [
  {
   "cell_type": "markdown",
   "id": "ac3d3edf",
   "metadata": {},
   "source": [
    "### Classificação de Imagens de Modelos de Automóveis utilizando Redes Neurais Convolucionais\n",
    "**Aluno**: Paulo Roberto Alves de Carvalho Junior\n",
    "***\n",
    "Trabalho de Conclusao de Curso apresentado ao Curso de Especializacao em Ciência de Dados e Big Data como requisito parcial à obtenção do tıtulo de especialista.\n"
   ]
  },
  {
   "cell_type": "markdown",
   "id": "8781cb11",
   "metadata": {},
   "source": [
    "### Importação das bibliotecas do Pytorch necessárias para execução do projeto"
   ]
  },
  {
   "cell_type": "code",
   "execution_count": 1,
   "id": "88b6ce1f",
   "metadata": {},
   "outputs": [],
   "source": [
    "import numpy as np\n",
    "import torch, torchvision\n",
    "from torchvision import datasets, models, transforms\n",
    "from torch.utils.data import DataLoader\n",
    "import torch.nn as nn\n",
    "import torch.optim as optim\n",
    "from torchsummary import summary"
   ]
  },
  {
   "cell_type": "markdown",
   "id": "cc5ac420",
   "metadata": {},
   "source": [
    "### Importação das demais bibliotecas para auxílio ao projeto\n",
    "\n",
    "Acesso ao sistema de arquivos, gráficos, cálculo de intervalos de tempo etc.\n"
   ]
  },
  {
   "cell_type": "code",
   "execution_count": 2,
   "id": "68f67182",
   "metadata": {},
   "outputs": [],
   "source": [
    "import PIL.Image\n",
    "import time\n",
    "from matplotlib import pyplot as plt\n",
    "import os\n",
    "import seaborn as sns\n",
    "sns.set_theme(style=\"darkgrid\")\n",
    "sns.set(rc={'figure.figsize':(11.7,8.27)})"
   ]
  },
  {
   "cell_type": "markdown",
   "id": "0c9095cd",
   "metadata": {},
   "source": [
    "### Aplicação das tranformações nas imagens (augmentation)\n",
    "\n",
    "As imagens foram redimensionadas para 256x256 (`tamanho = 256`, `transforms.Resize(size=[tamanho, tamanho])`) e, para o dataset de treino, foram aplicados espelhamentos horizontais aleatórias `RandomHorizontalFlip()`, conforme proposto [neste artigo](https://learnopencv.com/image-classification-using-transfer-learning-in-pytorch/)\n",
    "\n",
    "\n",
    "Após transformar as imagens em tensores, seus pixels foram normalizados tendo como entrada a média e desvio padrão para cada canal (Normalize([0.485, 0.456, 0.406],[0.229, 0.224, 0.225])) de todas as imagens do ImageNet (dataset utilizado para o treino da AlexNet).\n",
    "\n",
    "Veja que o dataset está dividido em treino, validação e teste, sendo que o espelhamento só é aplicado à massa de treino:"
   ]
  },
  {
   "cell_type": "code",
   "execution_count": 3,
   "id": "181ba1b8",
   "metadata": {},
   "outputs": [],
   "source": [
    "tamanho = 256\n",
    "transformacoes_de_imagens = { \n",
    "    'treino': transforms.Compose([        \n",
    "        transforms.Resize(size=[tamanho, tamanho]),\n",
    "        transforms.RandomHorizontalFlip(),      \n",
    "        transforms.ToTensor(),\n",
    "        transforms.Normalize([0.485, 0.456, 0.406],\n",
    "                             [0.229, 0.224, 0.225])\n",
    "   ]),\n",
    "    'validacao': transforms.Compose([\n",
    "        transforms.Resize(size=[tamanho, tamanho]), \n",
    "        transforms.ToTensor(),\n",
    "        transforms.Normalize([0.485, 0.456, 0.406],\n",
    "                             [0.229, 0.224, 0.225])\n",
    "    ]),\n",
    "   'teste': transforms.Compose([\n",
    "        transforms.Resize(size=[tamanho, tamanho]),\n",
    "        transforms.ToTensor(),\n",
    "       transforms.Normalize([0.485, 0.456, 0.406],\n",
    "                             [0.229, 0.224, 0.225])\n",
    "    ])\n",
    "}\n"
   ]
  },
  {
   "cell_type": "markdown",
   "id": "edd0ebe6",
   "metadata": {},
   "source": [
    "### Definir a localização dos conjuntos de dados e tamano do lote (_batch size_)\n",
    "\n",
    "O código abaixo define as pastas de treino, teste e validação, além de definir o tamanho do lote em 128 (`bs = 128`)."
   ]
  },
  {
   "cell_type": "code",
   "execution_count": 4,
   "id": "723a6e92",
   "metadata": {},
   "outputs": [],
   "source": [
    "dataset = r'./dados/'\n",
    "pasta_treino = os.path.join(dataset, 'treino')\n",
    "pasta_validacao = os.path.join(dataset, 'validacao')\n",
    "pasta_teste = os.path.join(dataset, 'teste')"
   ]
  },
  {
   "cell_type": "code",
   "execution_count": 5,
   "id": "af885027",
   "metadata": {},
   "outputs": [
    {
     "data": {
      "text/plain": [
       "5"
      ]
     },
     "execution_count": 5,
     "metadata": {},
     "output_type": "execute_result"
    }
   ],
   "source": [
    "# Tamanho do batch de treinamento\n",
    "bs = 128\n",
    "\n",
    "# Determinando o número de classes\n",
    "numero_de_classes = len(os.listdir(pasta_validacao))\n",
    "numero_de_classes"
   ]
  },
  {
   "cell_type": "markdown",
   "id": "cfae0286",
   "metadata": {},
   "source": [
    "### Carregar as imagens no formato de _datasets.ImageFolder_ do TorchVision\n",
    "\n",
    "O código abaixo atribui o conjunto de dados à estrutura utilizada pelos DataLoaders do TorchVision, definindo o local das imagens, bem como suas transformações."
   ]
  },
  {
   "cell_type": "code",
   "execution_count": 6,
   "id": "b0271c92",
   "metadata": {},
   "outputs": [],
   "source": [
    "data = {\n",
    "    'treino': datasets.ImageFolder(root=pasta_treino, transform=transformacoes_de_imagens['treino']),\n",
    "    'validacao': datasets.ImageFolder(root=pasta_validacao, transform=transformacoes_de_imagens['validacao'])\n",
    "}"
   ]
  },
  {
   "cell_type": "code",
   "execution_count": 7,
   "id": "469c3f08",
   "metadata": {},
   "outputs": [
    {
     "data": {
      "text/plain": [
       "{'treino': Dataset ImageFolder\n",
       "     Number of datapoints: 391\n",
       "     Root location: ./dados/treino\n",
       "     StandardTransform\n",
       " Transform: Compose(\n",
       "                Resize(size=[256, 256], interpolation=bilinear, max_size=None, antialias=None)\n",
       "                RandomHorizontalFlip(p=0.5)\n",
       "                ToTensor()\n",
       "                Normalize(mean=[0.485, 0.456, 0.406], std=[0.229, 0.224, 0.225])\n",
       "            ),\n",
       " 'validacao': Dataset ImageFolder\n",
       "     Number of datapoints: 110\n",
       "     Root location: ./dados/validacao\n",
       "     StandardTransform\n",
       " Transform: Compose(\n",
       "                Resize(size=[256, 256], interpolation=bilinear, max_size=None, antialias=None)\n",
       "                ToTensor()\n",
       "                Normalize(mean=[0.485, 0.456, 0.406], std=[0.229, 0.224, 0.225])\n",
       "            )}"
      ]
     },
     "execution_count": 7,
     "metadata": {},
     "output_type": "execute_result"
    }
   ],
   "source": [
    "data"
   ]
  },
  {
   "cell_type": "markdown",
   "id": "ef0691af",
   "metadata": {},
   "source": [
    "### Cria os _DataLoaders_ do _TorchVision_ \n",
    "\n",
    "O trecho de código abaixo faz um mapeamento de índices para classes de acordo com a estrutura de diretórios criada para treinar o modelo.\n",
    "\n",
    "Além disso, é calculada a quantidade de imagens de treino e validação para posterior cálculo de erro e acurácia médias.\n",
    "\n",
    "Por fim, os _DataLoaders_ são criados utilizando a estrutura de _datasets_ do _TorchVision_ criadas anteriomente."
   ]
  },
  {
   "cell_type": "code",
   "execution_count": 8,
   "id": "6f0b0b6e",
   "metadata": {},
   "outputs": [
    {
     "name": "stdout",
     "output_type": "stream",
     "text": [
      "{0: '911', 1: 'COMPASS', 2: 'HB20', 3: 'RENEGADE', 4: 'STRADA'}\n"
     ]
    }
   ],
   "source": [
    "# Mapear os índices com os nomes das classes\n",
    "indice_para_classe = {v: k for k, v in data['treino'].class_to_idx.items()}\n",
    "print(indice_para_classe)\n",
    "\n",
    "# Quantidade de imagens para serem utilizados para calcular erro médio e acurácia\n",
    "num_imagens_treino = len(data['treino'])\n",
    "num_imagens_validacao = len(data['validacao'])\n",
    "\n",
    "# Cria os DataLoaders para treino e validação\n",
    "data_loader_treino = DataLoader(data['treino'], batch_size=bs, shuffle=True)\n",
    "data_loader_validacao = DataLoader(data['validacao'], batch_size=bs, shuffle=True)"
   ]
  },
  {
   "cell_type": "code",
   "execution_count": 9,
   "id": "6f9bd17e",
   "metadata": {},
   "outputs": [
    {
     "data": {
      "text/plain": [
       "(391, 110)"
      ]
     },
     "execution_count": 9,
     "metadata": {},
     "output_type": "execute_result"
    }
   ],
   "source": [
    "num_imagens_treino, num_imagens_validacao\n"
   ]
  },
  {
   "cell_type": "markdown",
   "id": "9af10a3a",
   "metadata": {},
   "source": [
    "### Mostra imagens de cada categoria a ser classificada pelo modelo"
   ]
  },
  {
   "cell_type": "code",
   "execution_count": 10,
   "id": "0e6f9cd0",
   "metadata": {},
   "outputs": [
    {
     "data": {
      "image/jpeg": "[encoded data removed]",
      "text/plain": [
       "<IPython.core.display.Image object>"
      ]
     },
     "metadata": {},
     "output_type": "display_data"
    },
    {
     "data": {
      "image/jpeg": "[encoded data removed]",
      "text/plain": [
       "<IPython.core.display.Image object>"
      ]
     },
     "metadata": {},
     "output_type": "display_data"
    },
    {
     "data": {
      "image/jpeg": "[encoded data removed]",
      "text/plain": [
       "<IPython.core.display.Image object>"
      ]
     },
     "metadata": {},
     "output_type": "display_data"
    },
    {
     "data": {
      "image/jpeg": "[encoded data removed]",
      "text/plain": [
       "<IPython.core.display.Image object>"
      ]
     },
     "metadata": {},
     "output_type": "display_data"
    },
    {
     "data": {
      "image/jpeg": "[encoded data removed]",
      "text/plain": [
       "<IPython.core.display.Image object>"
      ]
     },
     "metadata": {},
     "output_type": "display_data"
    }
   ],
   "source": [
    "from IPython.display import Image \n",
    "\n",
    "# Mostrar algumas imagens\n",
    "for classe in indice_para_classe.values():\n",
    "    pasta_classe = os.path.join(pasta_treino, classe)\n",
    "    arquivo_imagem = os.listdir(pasta_classe)[1]\n",
    "    img = Image(filename=os.path.join(pasta_classe, arquivo_imagem))\n",
    "    display(img)"
   ]
  },
  {
   "cell_type": "markdown",
   "id": "eca71160",
   "metadata": {},
   "source": [
    "### Carrega a rede pré-treinada _AlexNet_\n",
    "\n",
    "Conforme detalhado no relatório, a _AlexNet_ é implementada no _PyTorch_ em 3 partes, _(features), (avgpool) e (classifier_):\n",
    "1. Extração de Características (_feature extraction_);\n",
    "2. Camada de _pooling_ baseada em valores médios (_AdaptiveAvgPool2d_);\n",
    "3. Classificador."
   ]
  },
  {
   "cell_type": "code",
   "execution_count": 11,
   "id": "cbc1cb7c",
   "metadata": {},
   "outputs": [],
   "source": [
    "alexnet = models.alexnet(pretrained=True)"
   ]
  },
  {
   "cell_type": "code",
   "execution_count": 12,
   "id": "aadf062f",
   "metadata": {},
   "outputs": [
    {
     "data": {
      "text/plain": [
       "Sequential(\n",
       "  (0): Conv2d(3, 64, kernel_size=(11, 11), stride=(4, 4), padding=(2, 2))\n",
       "  (1): ReLU(inplace=True)\n",
       "  (2): MaxPool2d(kernel_size=3, stride=2, padding=0, dilation=1, ceil_mode=False)\n",
       "  (3): Conv2d(64, 192, kernel_size=(5, 5), stride=(1, 1), padding=(2, 2))\n",
       "  (4): ReLU(inplace=True)\n",
       "  (5): MaxPool2d(kernel_size=3, stride=2, padding=0, dilation=1, ceil_mode=False)\n",
       "  (6): Conv2d(192, 384, kernel_size=(3, 3), stride=(1, 1), padding=(1, 1))\n",
       "  (7): ReLU(inplace=True)\n",
       "  (8): Conv2d(384, 256, kernel_size=(3, 3), stride=(1, 1), padding=(1, 1))\n",
       "  (9): ReLU(inplace=True)\n",
       "  (10): Conv2d(256, 256, kernel_size=(3, 3), stride=(1, 1), padding=(1, 1))\n",
       "  (11): ReLU(inplace=True)\n",
       "  (12): MaxPool2d(kernel_size=3, stride=2, padding=0, dilation=1, ceil_mode=False)\n",
       ")"
      ]
     },
     "execution_count": 12,
     "metadata": {},
     "output_type": "execute_result"
    }
   ],
   "source": [
    "alexnet.features"
   ]
  },
  {
   "cell_type": "code",
   "execution_count": 13,
   "id": "064941c4",
   "metadata": {},
   "outputs": [
    {
     "data": {
      "text/plain": [
       "Sequential(\n",
       "  (0): Dropout(p=0.5, inplace=False)\n",
       "  (1): Linear(in_features=9216, out_features=4096, bias=True)\n",
       "  (2): ReLU(inplace=True)\n",
       "  (3): Dropout(p=0.5, inplace=False)\n",
       "  (4): Linear(in_features=4096, out_features=4096, bias=True)\n",
       "  (5): ReLU(inplace=True)\n",
       "  (6): Linear(in_features=4096, out_features=1000, bias=True)\n",
       ")"
      ]
     },
     "execution_count": 13,
     "metadata": {},
     "output_type": "execute_result"
    }
   ],
   "source": [
    "alexnet.classifier"
   ]
  },
  {
   "cell_type": "markdown",
   "id": "f27f082d",
   "metadata": {},
   "source": [
    "### Congela os parâmetros da rede\n",
    "\n",
    "Como se trata de uma rede pré-treinada e queremos utilizar a técnica de _transfer learning_, é necessário congelar seus parâmetros para que as camadas anteriores não sejam retreinadas."
   ]
  },
  {
   "cell_type": "code",
   "execution_count": 14,
   "id": "73c513e6",
   "metadata": {},
   "outputs": [],
   "source": [
    "# Congelar os parametros da rede pré-treinada\n",
    "for param in alexnet.parameters():\n",
    "    param.requires_grad = False"
   ]
  },
  {
   "cell_type": "markdown",
   "id": "8201e1c7",
   "metadata": {},
   "source": [
    "### Configura a última camada com o número de classes desejada e adiciona mais uma camada de classificação\n",
    "\n",
    "A _AlexNet_ foi treinada para classificar 1000 categorias (`(6): Linear(in_features=4096, out_features=1000, bias=True)`). O trecho abaixo ajusta essa saída para o número de categorias que desejamos classificar (`alexnet.classifier[6] = nn.Linear(4096, numero_de_classes)`) e adiciona ao final uma camada de classificação _LogSoftmax_ (`alexnet.classifier.add_module(\"7\", nn.LogSoftmax(dim = 1))`), que possibilitará o uso da função de erro log-verossimilhança negativa (_Negative Loss Likelihood - NNLog_). "
   ]
  },
  {
   "cell_type": "code",
   "execution_count": 15,
   "id": "a9884486",
   "metadata": {},
   "outputs": [
    {
     "data": {
      "text/plain": [
       "AlexNet(\n",
       "  (features): Sequential(\n",
       "    (0): Conv2d(3, 64, kernel_size=(11, 11), stride=(4, 4), padding=(2, 2))\n",
       "    (1): ReLU(inplace=True)\n",
       "    (2): MaxPool2d(kernel_size=3, stride=2, padding=0, dilation=1, ceil_mode=False)\n",
       "    (3): Conv2d(64, 192, kernel_size=(5, 5), stride=(1, 1), padding=(2, 2))\n",
       "    (4): ReLU(inplace=True)\n",
       "    (5): MaxPool2d(kernel_size=3, stride=2, padding=0, dilation=1, ceil_mode=False)\n",
       "    (6): Conv2d(192, 384, kernel_size=(3, 3), stride=(1, 1), padding=(1, 1))\n",
       "    (7): ReLU(inplace=True)\n",
       "    (8): Conv2d(384, 256, kernel_size=(3, 3), stride=(1, 1), padding=(1, 1))\n",
       "    (9): ReLU(inplace=True)\n",
       "    (10): Conv2d(256, 256, kernel_size=(3, 3), stride=(1, 1), padding=(1, 1))\n",
       "    (11): ReLU(inplace=True)\n",
       "    (12): MaxPool2d(kernel_size=3, stride=2, padding=0, dilation=1, ceil_mode=False)\n",
       "  )\n",
       "  (avgpool): AdaptiveAvgPool2d(output_size=(6, 6))\n",
       "  (classifier): Sequential(\n",
       "    (0): Dropout(p=0.5, inplace=False)\n",
       "    (1): Linear(in_features=9216, out_features=4096, bias=True)\n",
       "    (2): ReLU(inplace=True)\n",
       "    (3): Dropout(p=0.5, inplace=False)\n",
       "    (4): Linear(in_features=4096, out_features=4096, bias=True)\n",
       "    (5): ReLU(inplace=True)\n",
       "    (6): Linear(in_features=4096, out_features=5, bias=True)\n",
       "    (7): LogSoftmax(dim=1)\n",
       "  )\n",
       ")"
      ]
     },
     "execution_count": 15,
     "metadata": {},
     "output_type": "execute_result"
    }
   ],
   "source": [
    "alexnet.classifier[6] = nn.Linear(4096, numero_de_classes)\n",
    "alexnet.classifier.add_module(\"7\", nn.LogSoftmax(dim = 1))\n",
    "alexnet"
   ]
  },
  {
   "cell_type": "markdown",
   "id": "e00188a2",
   "metadata": {},
   "source": [
    "### Verificar se há GPU disponível"
   ]
  },
  {
   "cell_type": "code",
   "execution_count": 16,
   "id": "f8f10cd0",
   "metadata": {},
   "outputs": [
    {
     "data": {
      "text/plain": [
       "device(type='cpu')"
      ]
     },
     "execution_count": 16,
     "metadata": {},
     "output_type": "execute_result"
    }
   ],
   "source": [
    "device = torch.device(\"cuda:0\" if torch.cuda.is_available() else \"cpu\")\n",
    "device"
   ]
  },
  {
   "cell_type": "code",
   "execution_count": 17,
   "id": "8ba7fa61",
   "metadata": {},
   "outputs": [
    {
     "name": "stdout",
     "output_type": "stream",
     "text": [
      "----------------------------------------------------------------\n",
      "        Layer (type)               Output Shape         Param #\n",
      "================================================================\n",
      "            Conv2d-1           [-1, 64, 63, 63]          23,296\n",
      "              ReLU-2           [-1, 64, 63, 63]               0\n",
      "         MaxPool2d-3           [-1, 64, 31, 31]               0\n",
      "            Conv2d-4          [-1, 192, 31, 31]         307,392\n",
      "              ReLU-5          [-1, 192, 31, 31]               0\n",
      "         MaxPool2d-6          [-1, 192, 15, 15]               0\n",
      "            Conv2d-7          [-1, 384, 15, 15]         663,936\n",
      "              ReLU-8          [-1, 384, 15, 15]               0\n",
      "            Conv2d-9          [-1, 256, 15, 15]         884,992\n",
      "             ReLU-10          [-1, 256, 15, 15]               0\n",
      "           Conv2d-11          [-1, 256, 15, 15]         590,080\n",
      "             ReLU-12          [-1, 256, 15, 15]               0\n",
      "        MaxPool2d-13            [-1, 256, 7, 7]               0\n",
      "AdaptiveAvgPool2d-14            [-1, 256, 6, 6]               0\n",
      "          Dropout-15                 [-1, 9216]               0\n",
      "           Linear-16                 [-1, 4096]      37,752,832\n",
      "             ReLU-17                 [-1, 4096]               0\n",
      "          Dropout-18                 [-1, 4096]               0\n",
      "           Linear-19                 [-1, 4096]      16,781,312\n",
      "             ReLU-20                 [-1, 4096]               0\n",
      "           Linear-21                    [-1, 5]          20,485\n",
      "       LogSoftmax-22                    [-1, 5]               0\n",
      "================================================================\n",
      "Total params: 57,024,325\n",
      "Trainable params: 20,485\n",
      "Non-trainable params: 57,003,840\n",
      "----------------------------------------------------------------\n",
      "Input size (MB): 0.75\n",
      "Forward/backward pass size (MB): 10.96\n",
      "Params size (MB): 217.53\n",
      "Estimated Total Size (MB): 229.24\n",
      "----------------------------------------------------------------\n"
     ]
    }
   ],
   "source": [
    "summary(alexnet, (3, tamanho, tamanho), device='cpu')"
   ]
  },
  {
   "cell_type": "markdown",
   "id": "a816905a",
   "metadata": {},
   "source": [
    "### Define a função de erro e otimizador\n",
    "\n",
    "No trecho abaixo são definidas a função de erro e otimização. Para o projeto, foram escolhidas as funções de erro log-verossimilhança negativa (_Negative Loss Likelihood - NNLog_) e otimização Adam, conforme sugerigo no artigo do Sunita Nayak."
   ]
  },
  {
   "cell_type": "code",
   "execution_count": 18,
   "id": "b986e870",
   "metadata": {},
   "outputs": [
    {
     "data": {
      "text/plain": [
       "Adam (\n",
       "Parameter Group 0\n",
       "    amsgrad: False\n",
       "    betas: (0.9, 0.999)\n",
       "    eps: 1e-08\n",
       "    lr: 0.001\n",
       "    maximize: False\n",
       "    weight_decay: 0\n",
       ")"
      ]
     },
     "execution_count": 18,
     "metadata": {},
     "output_type": "execute_result"
    }
   ],
   "source": [
    "funcao_erro = nn.NLLLoss() \n",
    "otimizador = optim.Adam(alexnet.parameters()) \n",
    "otimizador"
   ]
  },
  {
   "cell_type": "markdown",
   "id": "61a256c0",
   "metadata": {},
   "source": [
    "### Cria a função de treinamento da rede\n",
    "\n",
    "A função abaixo será utilizada para treinar e validar a rede utilizando os conjuntos de dados de treino e validação."
   ]
  },
  {
   "cell_type": "code",
   "execution_count": 19,
   "id": "0dff6978",
   "metadata": {},
   "outputs": [],
   "source": [
    "def treinar_e_validar(modelo, metrica_erro, otimizador_sgd, epocas=25):\n",
    "    '''\n",
    "    Função para treinamento e validação\n",
    "    Parâmetros\n",
    "        :param modelo: modelo para treinar e validar\n",
    "        :param metrica_erro: critério de erro para minização\n",
    "        :param otimizador_sgd: otimizador para calcular os gradientes\n",
    "        :param epocas: número de épocas (default=25)\n",
    "  \n",
    "    Retorna\n",
    "        melhor_modelo: modelo treinado com a melhor acurácia na validação\n",
    "        historico: (dicionário): histórico com erro no treinamento, erro na validação e acurácia\n",
    "    '''\n",
    "    \n",
    "    # inicializando historico, a melhor acuracia de validação e o melhor modelo de acordo com a validação\n",
    "    historico = []\n",
    "    melhor_acuracia = 0.0\n",
    "    melhor_modelo = None\n",
    "\n",
    "    # Cada época passa por todas as imagens do treino e calcula erros de treino e validação\n",
    "    # para aprendizado da rede neural\n",
    "    for epoca in range(epocas):\n",
    "        inicio_epoca = time.time()\n",
    "        print(\"\\n\\nÉpoca: {}/{}\".format(epoca+1, epocas))\n",
    "        \n",
    "        # Mudar o modelo para modo treino: vai atualizar os parametros da rede neural\n",
    "        modelo.train()\n",
    "        \n",
    "        # Erro e acurácia de treino nessa época\n",
    "        erro_treino = 0.0\n",
    "        acuracia_treino = 0.0\n",
    "        \n",
    "        # Erro e acurácia de validação nessa época\n",
    "        erro_validacao = 0.0\n",
    "        acuracia_validacao = 0.0\n",
    "        \n",
    "        # Itera a cada lote de imagem. As entradas são os tensores do lote (batch)\n",
    "        # e o label são as classificações de cada imagem do lote:        \n",
    "        for i, (entradas, labels) in enumerate(data_loader_treino):\n",
    "\n",
    "            # joga pra GPU ou CPU, dependendo do seu hardware\n",
    "            entradas = entradas.to(device)\n",
    "            labels = labels.to(device)\n",
    "            \n",
    "            # Limpar os gradientes: zerar os gradientes\n",
    "            otimizador_sgd.zero_grad()\n",
    "            \n",
    "            # Forward pass - calcular saídas a partir das entradas utilizando o modelo\n",
    "            saidas = modelo(entradas)\n",
    "            \n",
    "            # Calcular erro das saidas que foram preditas no forward pass\n",
    "            # comparando com as classificacoes reais (predito vs real)\n",
    "            erro = metrica_erro(saidas, labels)\n",
    "            \n",
    "            # Realizar backpropagation do erro para treinar os coeficientes da rede\n",
    "            erro.backward()\n",
    "            \n",
    "            # Atualizar os parâmetros do otimizador (no nosso caso, Adam Optimizer)\n",
    "            otimizador_sgd.step()\n",
    "            \n",
    "            # Calcular o erro total para esse lote (batch) e soma o erro no treino\n",
    "            erro_treino += erro.item() * entradas.size(0)\n",
    "            \n",
    "            # Cálculo da acurácia\n",
    "            # Pra calcular a acurácia busca-se as classes preditas para cada imagem no lote                      \n",
    "            valores_maximos, indices_dos_valores_maximos = torch.max(saidas.data, 1)\n",
    "            predicoes_corretas = indices_dos_valores_maximos.eq(labels.data.view_as(indices_dos_valores_maximos))\n",
    "            \n",
    "            # Converter os acertos para float e calcular a acurácia média\n",
    "            acuracia = torch.mean(predicoes_corretas.type(torch.FloatTensor))\n",
    "            \n",
    "            # Calcular a acurácia total de treino do lote todo e adicionar a em acuracia_treino\n",
    "            acuracia_treino += acuracia.item() * entradas.size(0)\n",
    "            \n",
    "            print(\"Treino - Lote número {:03d}, Erro: {:.4f}, Acurácia: {:.4f}\".format(i, erro.item(), acuracia.item()))\n",
    "\n",
    "            \n",
    "        # Validação - não é necessário rastrear os gradientes, pois o modelo não vai ser treinado com a validação\n",
    "        with torch.no_grad():\n",
    "\n",
    "            # Mudando de treino para validação\n",
    "            modelo.eval()\n",
    "\n",
    "            # Iteração de validação\n",
    "            for j, (entradas, labels) in enumerate(data_loader_validacao):\n",
    "                entradas = entradas.to(device)\n",
    "                labels = labels.to(device)\n",
    "\n",
    "                # Forward pass de validação\n",
    "                saidas = modelo(entradas)\n",
    "\n",
    "                # Calcular erro de validação\n",
    "                erro = metrica_erro(saidas, labels)\n",
    "\n",
    "                # Calcular erro de validação e adicionar à erro_validação\n",
    "                erro_validacao += erro.item() * entradas.size(0)\n",
    "\n",
    "                # Calcular a acurácia de validação\n",
    "                valores_maximos, indices_dos_valores_maximos = torch.max(saidas.data, 1)\n",
    "                predicoes_corretas = indices_dos_valores_maximos.eq(labels.data.view_as(indices_dos_valores_maximos))\n",
    "\n",
    "                # Converter os acertos para float e calcular a acurácia média\n",
    "                acuracia = torch.mean(predicoes_corretas.type(torch.FloatTensor))\n",
    "\n",
    "                # Calcular a acurácia total de validação do lote todo e adicionar a em acuracia_validacao\n",
    "                acuracia_validacao += acuracia.item() * entradas.size(0)\n",
    "\n",
    "                print(\"Validação - Lote número: {:03d}, Erro: {:.4f}, Acurácia: {:.4f}\".format(j, erro.item(), acuracia.item()))\n",
    "            \n",
    "        # Calcular a média de erro e acurácia no treino\n",
    "        erro_medio_treino = erro_treino/num_imagens_treino\n",
    "        acuracia_media_treino = acuracia_treino/num_imagens_treino\n",
    "\n",
    "        # Calcular a média de erro e acurácia na validação\n",
    "        erro_medio_validacao = erro_validacao/num_imagens_validacao\n",
    "        acuracia_media_validacao = acuracia_validacao/num_imagens_validacao\n",
    "\n",
    "        # Incluir no histórico os erros e acurácias médias\n",
    "        historico.append([erro_medio_treino, erro_medio_validacao, acuracia_media_treino, acuracia_media_validacao])\n",
    "                \n",
    "        fim_epoca = time.time()\n",
    "    \n",
    "        print(\"Época : {:03d}, Treino: Erro: {:.4f}, Acurácia: {:.4f}%, \\n\\t\\tValidação : Erro : {:.4f}, Acurácia: {:.4f}%, Tempo: {:.4f}s\".format(epoca+1, erro_medio_treino, acuracia_media_treino*100, erro_medio_validacao, acuracia_media_validacao*100, fim_epoca-inicio_epoca))\n",
    "        \n",
    "        # Testa se a acurácia na validação desse modelo nessa época é a melhor\n",
    "        # Se for a melhor, salva no melhor modelo e na melhor acurácia\n",
    "        if acuracia_media_validacao > melhor_acuracia:\n",
    "            melhor_acuracia = acuracia_media_validacao\n",
    "            torch.save(modelo, './modelos/melhor_modelo.pt')\n",
    "            melhor_modelo = modelo\n",
    "            \n",
    "    return melhor_modelo, historico"
   ]
  },
  {
   "cell_type": "markdown",
   "id": "2b8c82ca",
   "metadata": {},
   "source": [
    "### Define o número de épocas e treina o modelo\n",
    "\n",
    "O trecho abaixo verifica se há GPU disponível para o treinamento, define o número de épocas em 40 e treina o modelo."
   ]
  },
  {
   "cell_type": "code",
   "execution_count": 20,
   "id": "80dd8c16",
   "metadata": {
    "scrolled": false
   },
   "outputs": [
    {
     "name": "stdout",
     "output_type": "stream",
     "text": [
      "cpu\n",
      "\n",
      "\n",
      "\n",
      "Época: 1/40\n",
      "Treino - Lote número 000, Erro: 1.6426, Acurácia: 0.2656\n",
      "Treino - Lote número 001, Erro: 1.6536, Acurácia: 0.2578\n",
      "Treino - Lote número 002, Erro: 1.3716, Acurácia: 0.4062\n",
      "Treino - Lote número 003, Erro: 1.2130, Acurácia: 0.5714\n",
      "Validação - Lote número: 000, Erro: 1.2012, Acurácia: 0.5273\n",
      "Época : 001, Treino: Erro: 1.5498, Acurácia: 31.4578%, \n",
      "\t\tValidação : Erro : 1.2012, Acurácia: 52.7273%, Tempo: 5.4694s\n",
      "\n",
      "\n",
      "Época: 2/40\n",
      "Treino - Lote número 000, Erro: 1.1316, Acurácia: 0.5938\n",
      "Treino - Lote número 001, Erro: 1.0290, Acurácia: 0.6250\n",
      "Treino - Lote número 002, Erro: 1.0217, Acurácia: 0.6016\n",
      "Treino - Lote número 003, Erro: 0.7911, Acurácia: 0.8571\n",
      "Validação - Lote número: 000, Erro: 1.0077, Acurácia: 0.6182\n",
      "Época : 002, Treino: Erro: 1.0559, Acurácia: 61.1253%, \n",
      "\t\tValidação : Erro : 1.0077, Acurácia: 61.8182%, Tempo: 3.8976s\n",
      "\n",
      "\n",
      "Época: 3/40\n",
      "Treino - Lote número 000, Erro: 0.8387, Acurácia: 0.7734\n",
      "Treino - Lote número 001, Erro: 0.7805, Acurácia: 0.7734\n",
      "Treino - Lote número 002, Erro: 0.7316, Acurácia: 0.7734\n",
      "Treino - Lote número 003, Erro: 0.4801, Acurácia: 0.8571\n",
      "Validação - Lote número: 000, Erro: 0.9389, Acurácia: 0.6364\n",
      "Época : 003, Treino: Erro: 0.7782, Acurácia: 77.4936%, \n",
      "\t\tValidação : Erro : 0.9389, Acurácia: 63.6364%, Tempo: 3.8567s\n",
      "\n",
      "\n",
      "Época: 4/40\n",
      "Treino - Lote número 000, Erro: 0.6303, Acurácia: 0.8125\n",
      "Treino - Lote número 001, Erro: 0.6893, Acurácia: 0.7656\n",
      "Treino - Lote número 002, Erro: 0.7026, Acurácia: 0.7500\n",
      "Treino - Lote número 003, Erro: 0.4748, Acurácia: 1.0000\n",
      "Validação - Lote número: 000, Erro: 0.8845, Acurácia: 0.6727\n",
      "Época : 004, Treino: Erro: 0.6705, Acurácia: 78.0051%, \n",
      "\t\tValidação : Erro : 0.8845, Acurácia: 67.2727%, Tempo: 3.8766s\n",
      "\n",
      "\n",
      "Época: 5/40\n",
      "Treino - Lote número 000, Erro: 0.6583, Acurácia: 0.8047\n",
      "Treino - Lote número 001, Erro: 0.5679, Acurácia: 0.8281\n",
      "Treino - Lote número 002, Erro: 0.5432, Acurácia: 0.7812\n",
      "Treino - Lote número 003, Erro: 0.4024, Acurácia: 1.0000\n",
      "Validação - Lote número: 000, Erro: 0.8168, Acurácia: 0.7182\n",
      "Época : 005, Treino: Erro: 0.5864, Acurácia: 80.8184%, \n",
      "\t\tValidação : Erro : 0.8168, Acurácia: 71.8182%, Tempo: 3.9095s\n",
      "\n",
      "\n",
      "Época: 6/40\n",
      "Treino - Lote número 000, Erro: 0.5107, Acurácia: 0.8281\n",
      "Treino - Lote número 001, Erro: 0.4930, Acurácia: 0.8594\n",
      "Treino - Lote número 002, Erro: 0.4912, Acurácia: 0.8359\n",
      "Treino - Lote número 003, Erro: 0.5325, Acurácia: 0.5714\n",
      "Validação - Lote número: 000, Erro: 0.7814, Acurácia: 0.7182\n",
      "Época : 006, Treino: Erro: 0.4989, Acurácia: 83.6317%, \n",
      "\t\tValidação : Erro : 0.7814, Acurácia: 71.8182%, Tempo: 3.8138s\n",
      "\n",
      "\n",
      "Época: 7/40\n",
      "Treino - Lote número 000, Erro: 0.4224, Acurácia: 0.8906\n",
      "Treino - Lote número 001, Erro: 0.4128, Acurácia: 0.8438\n",
      "Treino - Lote número 002, Erro: 0.5225, Acurácia: 0.8359\n",
      "Treino - Lote número 003, Erro: 0.3915, Acurácia: 1.0000\n",
      "Validação - Lote número: 000, Erro: 0.7507, Acurácia: 0.7545\n",
      "Época : 007, Treino: Erro: 0.4515, Acurácia: 85.9335%, \n",
      "\t\tValidação : Erro : 0.7507, Acurácia: 75.4545%, Tempo: 3.9026s\n",
      "\n",
      "\n",
      "Época: 8/40\n",
      "Treino - Lote número 000, Erro: 0.3781, Acurácia: 0.8906\n",
      "Treino - Lote número 001, Erro: 0.3965, Acurácia: 0.8984\n",
      "Treino - Lote número 002, Erro: 0.4513, Acurácia: 0.8594\n",
      "Treino - Lote número 003, Erro: 0.3573, Acurácia: 0.8571\n",
      "Validação - Lote número: 000, Erro: 0.7280, Acurácia: 0.7636\n",
      "Época : 008, Treino: Erro: 0.4077, Acurácia: 88.2353%, \n",
      "\t\tValidação : Erro : 0.7280, Acurácia: 76.3636%, Tempo: 3.8337s\n",
      "\n",
      "\n",
      "Época: 9/40\n",
      "Treino - Lote número 000, Erro: 0.3295, Acurácia: 0.9297\n",
      "Treino - Lote número 001, Erro: 0.3963, Acurácia: 0.8516\n",
      "Treino - Lote número 002, Erro: 0.4049, Acurácia: 0.8906\n",
      "Treino - Lote número 003, Erro: 0.3413, Acurácia: 1.0000\n",
      "Validação - Lote número: 000, Erro: 0.7102, Acurácia: 0.7727\n",
      "Época : 009, Treino: Erro: 0.3763, Acurácia: 89.2583%, \n",
      "\t\tValidação : Erro : 0.7102, Acurácia: 77.2727%, Tempo: 3.7829s\n",
      "\n",
      "\n",
      "Época: 10/40\n",
      "Treino - Lote número 000, Erro: 0.3754, Acurácia: 0.8750\n",
      "Treino - Lote número 001, Erro: 0.3733, Acurácia: 0.9062\n",
      "Treino - Lote número 002, Erro: 0.3014, Acurácia: 0.9219\n",
      "Treino - Lote número 003, Erro: 0.3965, Acurácia: 0.7143\n",
      "Validação - Lote número: 000, Erro: 0.6868, Acurácia: 0.7727\n",
      "Época : 010, Treino: Erro: 0.3509, Acurácia: 89.7698%, \n",
      "\t\tValidação : Erro : 0.6868, Acurácia: 77.2727%, Tempo: 3.7669s\n",
      "\n",
      "\n",
      "Época: 11/40\n",
      "Treino - Lote número 000, Erro: 0.3191, Acurácia: 0.9141\n",
      "Treino - Lote número 001, Erro: 0.2747, Acurácia: 0.9297\n",
      "Treino - Lote número 002, Erro: 0.3493, Acurácia: 0.8750\n",
      "Treino - Lote número 003, Erro: 0.4137, Acurácia: 0.7143\n",
      "Validação - Lote número: 000, Erro: 0.7089, Acurácia: 0.7545\n",
      "Época : 011, Treino: Erro: 0.3161, Acurácia: 90.2813%, \n",
      "\t\tValidação : Erro : 0.7089, Acurácia: 75.4545%, Tempo: 3.9524s\n",
      "\n",
      "\n",
      "Época: 12/40\n",
      "Treino - Lote número 000, Erro: 0.3225, Acurácia: 0.8750\n",
      "Treino - Lote número 001, Erro: 0.3317, Acurácia: 0.9141\n",
      "Treino - Lote número 002, Erro: 0.3319, Acurácia: 0.9219\n",
      "Treino - Lote número 003, Erro: 0.3223, Acurácia: 1.0000\n",
      "Validação - Lote número: 000, Erro: 0.7155, Acurácia: 0.7364\n",
      "Época : 012, Treino: Erro: 0.3286, Acurácia: 90.5371%, \n",
      "\t\tValidação : Erro : 0.7155, Acurácia: 73.6364%, Tempo: 3.8826s\n",
      "\n",
      "\n",
      "Época: 13/40\n",
      "Treino - Lote número 000, Erro: 0.2939, Acurácia: 0.9219\n",
      "Treino - Lote número 001, Erro: 0.2581, Acurácia: 0.9141\n",
      "Treino - Lote número 002, Erro: 0.3185, Acurácia: 0.9141\n",
      "Treino - Lote número 003, Erro: 0.0901, Acurácia: 1.0000\n",
      "Validação - Lote número: 000, Erro: 0.7005, Acurácia: 0.7273\n",
      "Época : 013, Treino: Erro: 0.2866, Acurácia: 91.8159%, \n",
      "\t\tValidação : Erro : 0.7005, Acurácia: 72.7273%, Tempo: 3.9295s\n",
      "\n",
      "\n",
      "Época: 14/40\n",
      "Treino - Lote número 000, Erro: 0.2198, Acurácia: 0.9609\n",
      "Treino - Lote número 001, Erro: 0.2450, Acurácia: 0.9297\n",
      "Treino - Lote número 002, Erro: 0.2803, Acurácia: 0.9219\n",
      "Treino - Lote número 003, Erro: 0.1095, Acurácia: 1.0000\n",
      "Validação - Lote número: 000, Erro: 0.6995, Acurácia: 0.7727\n",
      "Época : 014, Treino: Erro: 0.2459, Acurácia: 93.8619%, \n",
      "\t\tValidação : Erro : 0.6995, Acurácia: 77.2727%, Tempo: 4.0761s\n",
      "\n",
      "\n",
      "Época: 15/40\n",
      "Treino - Lote número 000, Erro: 0.2589, Acurácia: 0.9297\n",
      "Treino - Lote número 001, Erro: 0.2988, Acurácia: 0.8984\n",
      "Treino - Lote número 002, Erro: 0.2015, Acurácia: 0.9609\n",
      "Treino - Lote número 003, Erro: 0.1371, Acurácia: 1.0000\n",
      "Validação - Lote número: 000, Erro: 0.6921, Acurácia: 0.7818\n",
      "Época : 015, Treino: Erro: 0.2510, Acurácia: 93.0946%, \n",
      "\t\tValidação : Erro : 0.6921, Acurácia: 78.1818%, Tempo: 3.9594s\n",
      "\n",
      "\n",
      "Época: 16/40\n",
      "Treino - Lote número 000, Erro: 0.2044, Acurácia: 0.9297\n",
      "Treino - Lote número 001, Erro: 0.2137, Acurácia: 0.9375\n",
      "Treino - Lote número 002, Erro: 0.2963, Acurácia: 0.9141\n",
      "Treino - Lote número 003, Erro: 0.2644, Acurácia: 0.8571\n",
      "Validação - Lote número: 000, Erro: 0.6846, Acurácia: 0.7727\n",
      "Época : 016, Treino: Erro: 0.2386, Acurácia: 92.5831%, \n",
      "\t\tValidação : Erro : 0.6846, Acurácia: 77.2727%, Tempo: 3.8736s\n",
      "\n",
      "\n",
      "Época: 17/40\n",
      "Treino - Lote número 000, Erro: 0.2052, Acurácia: 0.9219\n",
      "Treino - Lote número 001, Erro: 0.2033, Acurácia: 0.9531\n",
      "Treino - Lote número 002, Erro: 0.2877, Acurácia: 0.8828\n",
      "Treino - Lote número 003, Erro: 0.4641, Acurácia: 0.8571\n",
      "Validação - Lote número: 000, Erro: 0.6839, Acurácia: 0.7455\n",
      "Época : 017, Treino: Erro: 0.2362, Acurácia: 91.8159%, \n",
      "\t\tValidação : Erro : 0.6839, Acurácia: 74.5455%, Tempo: 3.9714s\n",
      "\n",
      "\n",
      "Época: 18/40\n",
      "Treino - Lote número 000, Erro: 0.2280, Acurácia: 0.9297\n",
      "Treino - Lote número 001, Erro: 0.2024, Acurácia: 0.9453\n",
      "Treino - Lote número 002, Erro: 0.2147, Acurácia: 0.9219\n",
      "Treino - Lote número 003, Erro: 0.3164, Acurácia: 1.0000\n",
      "Validação - Lote número: 000, Erro: 0.7094, Acurácia: 0.7364\n",
      "Época : 018, Treino: Erro: 0.2168, Acurácia: 93.3504%, \n",
      "\t\tValidação : Erro : 0.7094, Acurácia: 73.6364%, Tempo: 4.0402s\n",
      "\n",
      "\n",
      "Época: 19/40\n",
      "Treino - Lote número 000, Erro: 0.2645, Acurácia: 0.9219\n",
      "Treino - Lote número 001, Erro: 0.2110, Acurácia: 0.9609\n",
      "Treino - Lote número 002, Erro: 0.2155, Acurácia: 0.9531\n",
      "Treino - Lote número 003, Erro: 0.2528, Acurácia: 0.8571\n",
      "Validação - Lote número: 000, Erro: 0.7253, Acurácia: 0.7273\n",
      "Época : 019, Treino: Erro: 0.2307, Acurácia: 94.3734%, \n",
      "\t\tValidação : Erro : 0.7253, Acurácia: 72.7273%, Tempo: 4.0202s\n",
      "\n",
      "\n",
      "Época: 20/40\n",
      "Treino - Lote número 000, Erro: 0.1866, Acurácia: 0.9531\n",
      "Treino - Lote número 001, Erro: 0.2237, Acurácia: 0.9375\n",
      "Treino - Lote número 002, Erro: 0.2392, Acurácia: 0.9141\n",
      "Treino - Lote número 003, Erro: 0.0613, Acurácia: 1.0000\n"
     ]
    },
    {
     "name": "stdout",
     "output_type": "stream",
     "text": [
      "Validação - Lote número: 000, Erro: 0.6734, Acurácia: 0.7364\n",
      "Época : 020, Treino: Erro: 0.2137, Acurácia: 93.6061%, \n",
      "\t\tValidação : Erro : 0.6734, Acurácia: 73.6364%, Tempo: 4.0721s\n",
      "\n",
      "\n",
      "Época: 21/40\n",
      "Treino - Lote número 000, Erro: 0.1863, Acurácia: 0.9688\n",
      "Treino - Lote número 001, Erro: 0.2039, Acurácia: 0.9297\n",
      "Treino - Lote número 002, Erro: 0.2301, Acurácia: 0.9453\n",
      "Treino - Lote número 003, Erro: 0.2990, Acurácia: 0.8571\n",
      "Validação - Lote número: 000, Erro: 0.6488, Acurácia: 0.7909\n",
      "Época : 021, Treino: Erro: 0.2084, Acurácia: 94.6292%, \n",
      "\t\tValidação : Erro : 0.6488, Acurácia: 79.0909%, Tempo: 3.9355s\n",
      "\n",
      "\n",
      "Época: 22/40\n",
      "Treino - Lote número 000, Erro: 0.2165, Acurácia: 0.9297\n",
      "Treino - Lote número 001, Erro: 0.2200, Acurácia: 0.9297\n",
      "Treino - Lote número 002, Erro: 0.1800, Acurácia: 0.9531\n",
      "Treino - Lote número 003, Erro: 0.1654, Acurácia: 0.8571\n",
      "Validação - Lote número: 000, Erro: 0.6448, Acurácia: 0.7818\n",
      "Época : 022, Treino: Erro: 0.2048, Acurácia: 93.6061%, \n",
      "\t\tValidação : Erro : 0.6448, Acurácia: 78.1818%, Tempo: 3.8247s\n",
      "\n",
      "\n",
      "Época: 23/40\n",
      "Treino - Lote número 000, Erro: 0.2148, Acurácia: 0.9219\n",
      "Treino - Lote número 001, Erro: 0.2047, Acurácia: 0.9375\n",
      "Treino - Lote número 002, Erro: 0.2297, Acurácia: 0.9453\n",
      "Treino - Lote número 003, Erro: 0.1399, Acurácia: 1.0000\n",
      "Validação - Lote número: 000, Erro: 0.6276, Acurácia: 0.7636\n",
      "Época : 023, Treino: Erro: 0.2151, Acurácia: 93.6061%, \n",
      "\t\tValidação : Erro : 0.6276, Acurácia: 76.3636%, Tempo: 3.8268s\n",
      "\n",
      "\n",
      "Época: 24/40\n",
      "Treino - Lote número 000, Erro: 0.1535, Acurácia: 0.9688\n",
      "Treino - Lote número 001, Erro: 0.1764, Acurácia: 0.9688\n",
      "Treino - Lote número 002, Erro: 0.1904, Acurácia: 0.9453\n",
      "Treino - Lote número 003, Erro: 0.3364, Acurácia: 0.8571\n",
      "Validação - Lote número: 000, Erro: 0.6309, Acurácia: 0.7273\n",
      "Época : 024, Treino: Erro: 0.1763, Acurácia: 95.9079%, \n",
      "\t\tValidação : Erro : 0.6309, Acurácia: 72.7273%, Tempo: 3.9135s\n",
      "\n",
      "\n",
      "Época: 25/40\n",
      "Treino - Lote número 000, Erro: 0.2038, Acurácia: 0.9219\n",
      "Treino - Lote número 001, Erro: 0.1921, Acurácia: 0.9375\n",
      "Treino - Lote número 002, Erro: 0.1787, Acurácia: 0.9609\n",
      "Treino - Lote número 003, Erro: 0.2930, Acurácia: 0.8571\n",
      "Validação - Lote número: 000, Erro: 0.6405, Acurácia: 0.7364\n",
      "Época : 025, Treino: Erro: 0.1933, Acurácia: 93.8619%, \n",
      "\t\tValidação : Erro : 0.6405, Acurácia: 73.6364%, Tempo: 3.9405s\n",
      "\n",
      "\n",
      "Época: 26/40\n",
      "Treino - Lote número 000, Erro: 0.1879, Acurácia: 0.9297\n",
      "Treino - Lote número 001, Erro: 0.1583, Acurácia: 0.9688\n",
      "Treino - Lote número 002, Erro: 0.1825, Acurácia: 0.9609\n",
      "Treino - Lote número 003, Erro: 0.1087, Acurácia: 1.0000\n",
      "Validação - Lote número: 000, Erro: 0.6247, Acurácia: 0.7727\n",
      "Época : 026, Treino: Erro: 0.1750, Acurácia: 95.3964%, \n",
      "\t\tValidação : Erro : 0.6247, Acurácia: 77.2727%, Tempo: 3.8726s\n",
      "\n",
      "\n",
      "Época: 27/40\n",
      "Treino - Lote número 000, Erro: 0.1584, Acurácia: 0.9688\n",
      "Treino - Lote número 001, Erro: 0.1499, Acurácia: 0.9688\n",
      "Treino - Lote número 002, Erro: 0.2060, Acurácia: 0.9453\n",
      "Treino - Lote número 003, Erro: 0.0944, Acurácia: 1.0000\n",
      "Validação - Lote número: 000, Erro: 0.6166, Acurácia: 0.7636\n",
      "Época : 027, Treino: Erro: 0.1700, Acurácia: 96.1637%, \n",
      "\t\tValidação : Erro : 0.6166, Acurácia: 76.3636%, Tempo: 3.9873s\n",
      "\n",
      "\n",
      "Época: 28/40\n",
      "Treino - Lote número 000, Erro: 0.1166, Acurácia: 0.9766\n",
      "Treino - Lote número 001, Erro: 0.1559, Acurácia: 0.9688\n",
      "Treino - Lote número 002, Erro: 0.2224, Acurácia: 0.9219\n",
      "Treino - Lote número 003, Erro: 0.1565, Acurácia: 1.0000\n",
      "Validação - Lote número: 000, Erro: 0.6109, Acurácia: 0.8091\n",
      "Época : 028, Treino: Erro: 0.1648, Acurácia: 95.6522%, \n",
      "\t\tValidação : Erro : 0.6109, Acurácia: 80.9091%, Tempo: 3.8866s\n",
      "\n",
      "\n",
      "Época: 29/40\n",
      "Treino - Lote número 000, Erro: 0.1656, Acurácia: 0.9531\n",
      "Treino - Lote número 001, Erro: 0.1905, Acurácia: 0.9453\n",
      "Treino - Lote número 002, Erro: 0.1486, Acurácia: 0.9688\n",
      "Treino - Lote número 003, Erro: 0.0334, Acurácia: 1.0000\n",
      "Validação - Lote número: 000, Erro: 0.5970, Acurácia: 0.7818\n",
      "Época : 029, Treino: Erro: 0.1658, Acurácia: 95.6522%, \n",
      "\t\tValidação : Erro : 0.5970, Acurácia: 78.1818%, Tempo: 3.7938s\n",
      "\n",
      "\n",
      "Época: 30/40\n",
      "Treino - Lote número 000, Erro: 0.1419, Acurácia: 0.9609\n",
      "Treino - Lote número 001, Erro: 0.1306, Acurácia: 0.9609\n",
      "Treino - Lote número 002, Erro: 0.1604, Acurácia: 0.9375\n",
      "Treino - Lote número 003, Erro: 0.3997, Acurácia: 0.8571\n",
      "Validação - Lote número: 000, Erro: 0.5946, Acurácia: 0.7818\n",
      "Época : 030, Treino: Erro: 0.1488, Acurácia: 95.1407%, \n",
      "\t\tValidação : Erro : 0.5946, Acurácia: 78.1818%, Tempo: 3.9504s\n",
      "\n",
      "\n",
      "Época: 31/40\n",
      "Treino - Lote número 000, Erro: 0.1866, Acurácia: 0.9531\n",
      "Treino - Lote número 001, Erro: 0.1152, Acurácia: 0.9609\n",
      "Treino - Lote número 002, Erro: 0.1281, Acurácia: 0.9688\n",
      "Treino - Lote número 003, Erro: 0.0172, Acurácia: 1.0000\n",
      "Validação - Lote número: 000, Erro: 0.5963, Acurácia: 0.7727\n",
      "Época : 031, Treino: Erro: 0.1411, Acurácia: 96.1637%, \n",
      "\t\tValidação : Erro : 0.5963, Acurácia: 77.2727%, Tempo: 3.8836s\n",
      "\n",
      "\n",
      "Época: 32/40\n",
      "Treino - Lote número 000, Erro: 0.1571, Acurácia: 0.9609\n",
      "Treino - Lote número 001, Erro: 0.1373, Acurácia: 0.9844\n",
      "Treino - Lote número 002, Erro: 0.1823, Acurácia: 0.9375\n",
      "Treino - Lote número 003, Erro: 0.1394, Acurácia: 1.0000\n",
      "Validação - Lote número: 000, Erro: 0.5953, Acurácia: 0.7909\n",
      "Época : 032, Treino: Erro: 0.1585, Acurácia: 96.1637%, \n",
      "\t\tValidação : Erro : 0.5953, Acurácia: 79.0909%, Tempo: 3.8308s\n",
      "\n",
      "\n",
      "Época: 33/40\n",
      "Treino - Lote número 000, Erro: 0.1539, Acurácia: 0.9688\n",
      "Treino - Lote número 001, Erro: 0.1055, Acurácia: 1.0000\n",
      "Treino - Lote número 002, Erro: 0.1122, Acurácia: 0.9766\n",
      "Treino - Lote número 003, Erro: 0.0220, Acurácia: 1.0000\n",
      "Validação - Lote número: 000, Erro: 0.5911, Acurácia: 0.7909\n",
      "Época : 033, Treino: Erro: 0.1220, Acurácia: 98.2097%, \n",
      "\t\tValidação : Erro : 0.5911, Acurácia: 79.0909%, Tempo: 3.8667s\n",
      "\n",
      "\n",
      "Época: 34/40\n",
      "Treino - Lote número 000, Erro: 0.0906, Acurácia: 0.9844\n",
      "Treino - Lote número 001, Erro: 0.1452, Acurácia: 0.9609\n",
      "Treino - Lote número 002, Erro: 0.1286, Acurácia: 0.9922\n",
      "Treino - Lote número 003, Erro: 0.1963, Acurácia: 0.8571\n",
      "Validação - Lote número: 000, Erro: 0.5987, Acurácia: 0.7909\n",
      "Época : 034, Treino: Erro: 0.1228, Acurácia: 97.6982%, \n",
      "\t\tValidação : Erro : 0.5987, Acurácia: 79.0909%, Tempo: 3.9245s\n",
      "\n",
      "\n",
      "Época: 35/40\n",
      "Treino - Lote número 000, Erro: 0.1422, Acurácia: 0.9844\n",
      "Treino - Lote número 001, Erro: 0.1212, Acurácia: 0.9766\n",
      "Treino - Lote número 002, Erro: 0.1829, Acurácia: 0.9375\n",
      "Treino - Lote número 003, Erro: 0.2556, Acurácia: 0.8571\n",
      "Validação - Lote número: 000, Erro: 0.6039, Acurácia: 0.7636\n",
      "Época : 035, Treino: Erro: 0.1507, Acurácia: 96.4194%, \n",
      "\t\tValidação : Erro : 0.6039, Acurácia: 76.3636%, Tempo: 3.9824s\n",
      "\n",
      "\n",
      "Época: 36/40\n",
      "Treino - Lote número 000, Erro: 0.1596, Acurácia: 0.9453\n",
      "Treino - Lote número 001, Erro: 0.1459, Acurácia: 0.9688\n",
      "Treino - Lote número 002, Erro: 0.1555, Acurácia: 0.9531\n",
      "Treino - Lote número 003, Erro: 0.0664, Acurácia: 1.0000\n",
      "Validação - Lote número: 000, Erro: 0.5939, Acurácia: 0.7636\n",
      "Época : 036, Treino: Erro: 0.1521, Acurácia: 95.6522%, \n",
      "\t\tValidação : Erro : 0.5939, Acurácia: 76.3636%, Tempo: 3.9863s\n",
      "\n",
      "\n",
      "Época: 37/40\n",
      "Treino - Lote número 000, Erro: 0.1031, Acurácia: 0.9922\n",
      "Treino - Lote número 001, Erro: 0.1541, Acurácia: 0.9609\n",
      "Treino - Lote número 002, Erro: 0.1366, Acurácia: 0.9688\n",
      "Treino - Lote número 003, Erro: 0.1109, Acurácia: 1.0000\n",
      "Validação - Lote número: 000, Erro: 0.5924, Acurácia: 0.7909\n",
      "Época : 037, Treino: Erro: 0.1309, Acurácia: 97.4425%, \n",
      "\t\tValidação : Erro : 0.5924, Acurácia: 79.0909%, Tempo: 3.9385s\n",
      "\n",
      "\n",
      "Época: 38/40\n",
      "Treino - Lote número 000, Erro: 0.1114, Acurácia: 0.9844\n",
      "Treino - Lote número 001, Erro: 0.1158, Acurácia: 0.9844\n",
      "Treino - Lote número 002, Erro: 0.1005, Acurácia: 0.9922\n",
      "Treino - Lote número 003, Erro: 0.3591, Acurácia: 0.8571\n",
      "Validação - Lote número: 000, Erro: 0.5767, Acurácia: 0.8000\n",
      "Época : 038, Treino: Erro: 0.1137, Acurácia: 98.4655%, \n",
      "\t\tValidação : Erro : 0.5767, Acurácia: 80.0000%, Tempo: 3.8796s\n",
      "\n",
      "\n",
      "Época: 39/40\n",
      "Treino - Lote número 000, Erro: 0.1261, Acurácia: 0.9766\n",
      "Treino - Lote número 001, Erro: 0.1292, Acurácia: 0.9688\n",
      "Treino - Lote número 002, Erro: 0.1684, Acurácia: 0.9453\n",
      "Treino - Lote número 003, Erro: 0.1502, Acurácia: 1.0000\n",
      "Validação - Lote número: 000, Erro: 0.5909, Acurácia: 0.8182\n",
      "Época : 039, Treino: Erro: 0.1414, Acurácia: 96.4194%, \n",
      "\t\tValidação : Erro : 0.5909, Acurácia: 81.8182%, Tempo: 3.9046s\n"
     ]
    },
    {
     "name": "stdout",
     "output_type": "stream",
     "text": [
      "\n",
      "\n",
      "Época: 40/40\n",
      "Treino - Lote número 000, Erro: 0.1355, Acurácia: 0.9609\n",
      "Treino - Lote número 001, Erro: 0.0965, Acurácia: 0.9688\n",
      "Treino - Lote número 002, Erro: 0.1302, Acurácia: 0.9609\n",
      "Treino - Lote número 003, Erro: 0.1074, Acurácia: 1.0000\n",
      "Validação - Lote número: 000, Erro: 0.5825, Acurácia: 0.8000\n",
      "Época : 040, Treino: Erro: 0.1205, Acurácia: 96.4194%, \n",
      "\t\tValidação : Erro : 0.5825, Acurácia: 80.0000%, Tempo: 3.8357s\n"
     ]
    }
   ],
   "source": [
    "device = torch.device(\"cuda:0\" if torch.cuda.is_available() else \"cpu\")\n",
    "print(f'{device}\\n')\n",
    "\n",
    "numero_de_epocas = 40\n",
    "\n",
    "modelo_treinado, historico = treinar_e_validar(alexnet, funcao_erro, otimizador, numero_de_epocas)"
   ]
  },
  {
   "cell_type": "markdown",
   "id": "3f40b800",
   "metadata": {},
   "source": [
    "### Gráfico de Erro nos conjuntos de Treino e Validação"
   ]
  },
  {
   "cell_type": "code",
   "execution_count": 21,
   "id": "cf4a5b72",
   "metadata": {},
   "outputs": [
    {
     "data": {
      "text/plain": [
       "Text(0, 0.5, 'Erro')"
      ]
     },
     "execution_count": 21,
     "metadata": {},
     "output_type": "execute_result"
    },
    {
     "data": {
      "image/png": "[encoded data removed]",
      "text/plain": [
       "<Figure size 842.4x595.44 with 1 Axes>"
      ]
     },
     "metadata": {},
     "output_type": "display_data"
    }
   ],
   "source": [
    "historico = np.array(historico)\n",
    "ax=sns.lineplot(data=historico[:,0:2],markers=True, dashes=False)\n",
    "plt.legend(labels=[\"Erro Treino\",\"Erro Validação\"], title = \"Erro\", \n",
    "           fontsize = 'large', title_fontsize = \"10\")\n",
    "ax.set_xlabel(\"Épocas\")\n",
    "ax.set_ylabel(\"Erro\")"
   ]
  },
  {
   "cell_type": "markdown",
   "id": "ce8fb61d",
   "metadata": {},
   "source": [
    "### Gráfico de Acurácia nos conjuntos de Treino e Validação"
   ]
  },
  {
   "cell_type": "code",
   "execution_count": 22,
   "id": "ab6e89eb",
   "metadata": {},
   "outputs": [
    {
     "data": {
      "text/plain": [
       "Text(0, 0.5, 'Acurácia')"
      ]
     },
     "execution_count": 22,
     "metadata": {},
     "output_type": "execute_result"
    },
    {
     "data": {
      "image/png": "[encoded data removed]",
      "text/plain": [
       "<Figure size 842.4x595.44 with 1 Axes>"
      ]
     },
     "metadata": {},
     "output_type": "display_data"
    }
   ],
   "source": [
    "ax = sns.lineplot(data=historico[:,-2:],markers=True, dashes=False)\n",
    "plt.legend(labels=[\"Acurácia Treino\",\"Acurácia Validação\"], title = \"Acurácia\", \n",
    "           fontsize = 'large', title_fontsize = \"10\")\n",
    "ax.set_xlabel(\"Épocas\")\n",
    "ax.set_ylabel(\"Acurácia\")"
   ]
  },
  {
   "cell_type": "markdown",
   "id": "5108347c",
   "metadata": {},
   "source": [
    "### Verifica qual o maior valor de acurácia no conjunto de Validação\n",
    "\n",
    "Foi obtido um valor de 0.8181, ou seja, o melhor modelo teve acurácia de 81,8% no conjunto de validação."
   ]
  },
  {
   "cell_type": "code",
   "execution_count": 23,
   "id": "74e918fa",
   "metadata": {},
   "outputs": [
    {
     "name": "stdout",
     "output_type": "stream",
     "text": [
      "0.8181818127632141\n"
     ]
    }
   ],
   "source": [
    "#Ordena as maioresvalidações\n",
    "validacoes = historico[:,3]\n",
    "maior_val = np.sort(validacoes)[::-1]\n",
    "print(maior_val[0])"
   ]
  },
  {
   "cell_type": "markdown",
   "id": "af6f9de0",
   "metadata": {},
   "source": [
    "### Define função para efetuar predições\n",
    "\n",
    "O trecho abaixo define a função responsável por efetuar as predições de imagens utilizando o melhor modelo obtido no treinamento da rede."
   ]
  },
  {
   "cell_type": "code",
   "execution_count": 24,
   "id": "83221021",
   "metadata": {},
   "outputs": [],
   "source": [
    "def predicao(modelo, arquivo_imagem_teste):\n",
    "    '''\n",
    "    Função para realizar a predição do modelo do automóvel\n",
    "    Parâmetros\n",
    "        :param modelo: modelo para testar\n",
    "        :param arquivo_imagem_teste: caminho para imagem de teste\n",
    "    '''\n",
    "    \n",
    "    transformacao = transformacoes_de_imagens['teste']\n",
    "\n",
    "    imagem_teste = PIL.Image.open(arquivo_imagem_teste)\n",
    "    #plt.imshow(imagem_teste)\n",
    "    \n",
    "    tensor_imagem_teste = transformacao(imagem_teste)\n",
    "    #print(tensor_imagem_teste.size())\n",
    "\n",
    "    # Testa se voce é rico, ops, se tem uma placa NVIDIA :)\n",
    "    if torch.cuda.is_available():\n",
    "        tensor_imagem_teste = tensor_imagem_teste.view(1, 3, tamanho, tamanho).cuda()\n",
    "    else:\n",
    "        tensor_imagem_teste = tensor_imagem_teste.view(1, 3, tamanho, tamanho)\n",
    "    \n",
    "    dict_predicoes = dict()\n",
    "    \n",
    "    # Não precisa atualizar os coeficientes do modelo\n",
    "    with torch.no_grad():\n",
    "        modelo.eval()\n",
    "        # Modelo retorna as probabilidades em log (log softmax)\n",
    "        saida = modelo(tensor_imagem_teste)\n",
    "        \n",
    "        # torch.exp para voltar a probabilidade de log para a probabilidade linear\n",
    "        ps = torch.exp(saida)\n",
    "        \n",
    "        # topk retorna o os k maiores valores do tensor\n",
    "        # o tensor de probabilidades vai trazer na 1a posição a classe com maior\n",
    "        # probabilidade de predição\n",
    "        topk, topclass = ps.topk(numero_de_classes, dim=1)        \n",
    "        for i in range(numero_de_classes):\n",
    "            dict_predicoes[indice_para_classe[topclass.cpu().numpy()[0][i]]] = topk.cpu().numpy()[0][i]    \n",
    "    \n",
    "    return dict_predicoes"
   ]
  },
  {
   "cell_type": "markdown",
   "id": "cd536766",
   "metadata": {},
   "source": [
    "### Testa a classe de predições\n",
    "\n",
    "O código abaixo teste imagens individuais e faz a inferência da categoria"
   ]
  },
  {
   "cell_type": "code",
   "execution_count": 25,
   "id": "ed0ff62b",
   "metadata": {
    "scrolled": true
   },
   "outputs": [
    {
     "data": {
      "text/plain": [
       "{'911': 0.9439019,\n",
       " 'HB20': 0.035868283,\n",
       " 'COMPASS': 0.015226686,\n",
       " 'STRADA': 0.0036914865,\n",
       " 'RENEGADE': 0.00131167}"
      ]
     },
     "execution_count": 25,
     "metadata": {},
     "output_type": "execute_result"
    }
   ],
   "source": [
    "classe = '911'\n",
    "pasta = f'./dados/teste/{classe}/'\n",
    "imagem = os.path.join(pasta, os.listdir(pasta)[4])\n",
    "#print(indice_para_classe)\n",
    "predicao(modelo_treinado, imagem)\n",
    "#print(list(pred.keys())[0])\n",
    "#print(pred)\n"
   ]
  },
  {
   "cell_type": "markdown",
   "id": "b6c52efe",
   "metadata": {},
   "source": [
    "### Inferências no conjunto de dados de Teste\n",
    "\n",
    "O código abaixo pega todas as imagens do conjunto de teste - nunca vistas pelo modelo na fase de treino e validação - e verifica a acurácia média desse conjunto. Foi obtido um valor de 0.8679, ou seja, a acurácia média no conjunto de teste foi de 86,8%."
   ]
  },
  {
   "cell_type": "code",
   "execution_count": 26,
   "id": "5e5a3709",
   "metadata": {},
   "outputs": [],
   "source": [
    "def acuracia_teste(modelo, pasta_teste):\n",
    "    classes = os.listdir(pasta_teste)\n",
    "    print(classes)\n",
    "    \n",
    "    predicoes_corretas = 0\n",
    "    predicoes_erradas = 0\n",
    "    \n",
    "    for cl in classes:\n",
    "        cl1_files = os.listdir(os.path.join(pasta_teste, cl))\n",
    "        \n",
    "        for image in cl1_files:\n",
    "            full_path_image = os.path.join(pasta_teste, cl, image)\n",
    "            p = predicao(modelo, full_path_image)\n",
    "            predicted_class = max(p, key=lambda key: p[key])\n",
    "            \n",
    "            \n",
    "            if predicted_class == cl:\n",
    "                predicoes_corretas += 1\n",
    "            else:\n",
    "                predicoes_erradas += 1                \n",
    "    \n",
    "    return predicoes_corretas / (predicoes_corretas + predicoes_erradas)"
   ]
  },
  {
   "cell_type": "code",
   "execution_count": 27,
   "id": "0b19d9b8",
   "metadata": {},
   "outputs": [
    {
     "name": "stdout",
     "output_type": "stream",
     "text": [
      "['911', 'COMPASS', 'HB20', 'RENEGADE', 'STRADA']\n"
     ]
    },
    {
     "data": {
      "text/plain": [
       "0.8679245283018868"
      ]
     },
     "execution_count": 27,
     "metadata": {},
     "output_type": "execute_result"
    }
   ],
   "source": [
    "melhor_modelo = torch.load('./modelos/melhor_modelo.pt')\n",
    "acuracia_base_teste = acuracia_teste(melhor_modelo, pasta_teste)\n",
    "acuracia_base_teste"
   ]
  }
 ],
 "metadata": {
  "kernelspec": {
   "display_name": "Python 3 (ipykernel)",
   "language": "python",
   "name": "python3"
  },
  "language_info": {
   "codemirror_mode": {
    "name": "ipython",
    "version": 3
   },
   "file_extension": ".py",
   "mimetype": "text/x-python",
   "name": "python",
   "nbconvert_exporter": "python",
   "pygments_lexer": "ipython3",
   "version": "3.9.0"
  }
 },
 "nbformat": 4,
 "nbformat_minor": 5
}
